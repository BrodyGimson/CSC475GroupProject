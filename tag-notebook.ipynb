{
 "cells": [
  {
   "cell_type": "markdown",
   "id": "28e145c7",
   "metadata": {},
   "source": [
    "# GENRE TAGGING IDMT-SMT DATASET\n",
    "The following notebook shows the process our data collector used to parse through\n",
    "the IDMT-SMT audio signal dataset and how the simple genre classification system \n",
    "was created for our metadata file.\n",
    "## IMPORT\n",
    "In the .py files we use an import for the class bellow but in the case of this notebook we can just insure to run this class module bellow before running main."
   ]
  },
  {
   "cell_type": "code",
   "execution_count": null,
   "id": "75a2c8c4",
   "metadata": {},
   "outputs": [],
   "source": [
    "import xml.sax\n",
    "import glob \n",
    "import os\n",
    "import pandas as pd\n",
    "import xml.etree.ElementTree as ET"
   ]
  },
  {
   "cell_type": "markdown",
   "id": "72698e9e",
   "metadata": {},
   "source": [
    "## FILE HANDLER\n",
    "### Class for parsing XML Files\n",
    "This class allows us to extract the data we need from the XML files provided by the IDMT-SMT audio signal dataset and allows us to easily create our own metadata CSV file for minipulating and processing audio files to help process our own audio files as well as train our machine learning model. This class searches through each indavidual file in the Lists directory in the downloaded dataset and creates a dictionary of key value pairs, the value is a list that contains all the data collected from the XML. This data can then be sent back to our main file to be processed into a CSV file using pandas dataframe functions. "
   ]
  },
  {
   "cell_type": "code",
   "execution_count": null,
   "id": "b9dd5f37",
   "metadata": {},
   "outputs": [],
   "source": [
    "class FileHandler(xml.sax.ContentHandler):\n",
    "\n",
    "    def __init__(self):\n",
    "        self.currentData = \"\"\n",
    "        self.fileID = \"\"\n",
    "        self.instrumentSetting = \"\"\n",
    "        self.playStyle = \"\"\n",
    "        self.midi = \"\"\n",
    "        self.string = \"\"\n",
    "        self.fret = \"\"\n",
    "        self.fxGroup = \"\"\n",
    "        self.fxType = \"\"\n",
    "        self.fxSetting = \"\"\n",
    "        self.fileTag = \"\"\n",
    "        self.dict = {\"fileID\":[], \"instrumentSetting\":[], \"playStyle\":[], \n",
    "                     \"midi\":[], \"string\":[], \"fret\":[], \"fxGroup\":[], \n",
    "                     \"fxType\":[], \"fxSetting\":[], \"fileTag\":[]}\n",
    "    \n",
    "    def startElement(self, tag, attributes):\n",
    "        self.currentData = tag\n",
    "    \n",
    "    def endElement(self, tag):\n",
    "        if self.currentData == \"fileID\":\n",
    "            self.dict[\"fileID\"].append(self.fileID)\n",
    "        elif self.currentData == \"instrumentsetting\":\n",
    "            self.dict[\"instrumentSetting\"].append(self.instrumentSetting)\n",
    "        elif self.currentData == \"playstyle\":\n",
    "            self.dict[\"playStyle\"].append(self.playStyle)\n",
    "        elif self.currentData == \"midinr\":\n",
    "            self.dict[\"midi\"].append(self.midi)\n",
    "        elif self.currentData == \"string\":\n",
    "            self.dict[\"string\"].append(self.string)\n",
    "        elif self.currentData == \"fret\":\n",
    "            self.dict[\"fret\"].append(self.fret)\n",
    "        elif self.currentData == \"fxgroup\":\n",
    "            self.dict[\"fxGroup\"].append(self.fxGroup)\n",
    "        elif self.currentData == \"fxsetting\":\n",
    "            self.dict[\"fxSetting\"].append(self.fxSetting)\n",
    "        elif self.currentData == \"fxtype\":\n",
    "            self.dict[\"fxType\"].append(self.fxType)\n",
    "        elif self.currentData == \"filenr\":\n",
    "            self.dict[\"fileTag\"].append(self.fileTag)\n",
    "        self.currentData = \"\"\n",
    "            \n",
    "    def characters(self, tag):\n",
    "        if self.currentData == \"fileID\":\n",
    "            self.fileID = tag\n",
    "        elif self.currentData == \"instrumentsetting\":\n",
    "            self.instrumentSetting = tag\n",
    "        elif self.currentData == \"playstyle\":\n",
    "            self.playStyle = tag    \n",
    "        elif self.currentData == \"midinr\":\n",
    "            self.midi = tag    \n",
    "        elif self.currentData == \"string\":\n",
    "            self.string = tag    \n",
    "        elif self.currentData == \"fret\":\n",
    "            self.fret = tag  \n",
    "        elif self.currentData == \"fxgroup\":\n",
    "            self.fxGroup = tag  \n",
    "        elif self.currentData == \"fxsetting\":\n",
    "            self.fxSetting = tag \n",
    "        elif self.currentData == \"fxtype\":\n",
    "            self.fxType = tag \n",
    "        elif self.currentData == \"filenr\":\n",
    "            self.fileTag = tag "
   ]
  },
  {
   "cell_type": "markdown",
   "id": "30ae662d",
   "metadata": {},
   "source": [
    "## FILE PARSER FUNCTION\n",
    "### initializes our handler class"
   ]
  },
  {
   "cell_type": "code",
   "execution_count": null,
   "id": "420bbee7",
   "metadata": {},
   "outputs": [],
   "source": [
    "def file_parse_xml(path):\n",
    "    handler = FileHandler()\n",
    "    parser = xml.sax.make_parser()\n",
    "    parser.setContentHandler(handler)\n",
    "    parser.parse(path)\n",
    "    return handler.dict"
   ]
  },
  {
   "cell_type": "markdown",
   "id": "d186654e",
   "metadata": {},
   "source": [
    "## CREATE CSV FILE\n"
   ]
  },
  {
   "cell_type": "code",
   "execution_count": null,
   "id": "009cb09c",
   "metadata": {},
   "outputs": [],
   "source": [
    "def create_csv(data, csvName):\n",
    "    csv_filename = csvName\n",
    "    \n",
    "    if not os.path.exists(csv_filename):\n",
    "        df = pd.DataFrame(data)\n",
    "        df.to_csv(csv_filename, index=False)\n",
    "    else:\n",
    "        df = pd.DataFrame(data)\n",
    "        df.to_csv(csv_filename, mode='a', index=False, header=False)"
   ]
  },
  {
   "cell_type": "markdown",
   "id": "d884f02f",
   "metadata": {},
   "source": [
    "## EFFECT ID TABLE CREATION "
   ]
  },
  {
   "cell_type": "code",
   "execution_count": null,
   "id": "e4375e07",
   "metadata": {},
   "outputs": [],
   "source": [
    "def effect_table_creation(path):\n",
    "    tree = ET.parse(path)\n",
    "    root = tree.getroot()\n",
    "    effectDict = {'fxName':[], 'fxNameID':[], 'fxType':[], 'fxTypeID':[], 'fxSetting':[],\n",
    "                  'fxSettingID':[], 'genre':[], 'paramName':[], 'paramID':[]}\n",
    "    \n",
    "    for fxinformation in root.findall('.//fxinformation'):\n",
    "        fxgroupID = fxinformation.find('.//fxgroup/ID').text\n",
    "        fxtypeID = fxinformation.find('.//fxtype/ID').text\n",
    "        fxsettingID = fxinformation.find('.//fxsetting/ID').text\n",
    "        fxgroup = fxinformation.find('.//fxgroup/name').text\n",
    "        fxtype = fxinformation.find('.//fxtype/name').text\n",
    "        fxsetting = fxinformation.find('.//fxsetting/name').text\n",
    "        effectDict['fxName'].append(fxgroup)\n",
    "        effectDict['fxNameID'].append(fxgroupID)\n",
    "        effectDict['fxSetting'].append(fxsetting)\n",
    "        effectDict['fxSettingID'].append(fxsettingID)\n",
    "        effectDict['fxType'].append(fxtype)\n",
    "        effectDict['fxTypeID'].append(fxtypeID)\n",
    "\n",
    "        if fxsettingID == '1':\n",
    "            effectDict['genre'].append('indie')\n",
    "        elif fxsettingID == '2':\n",
    "            effectDict['genre'].append('rock')\n",
    "        elif fxsettingID == '3':\n",
    "            effectDict['genre'].append('metal')\n",
    "        else:\n",
    "            effectDict['genre'].append('other')\n",
    "            \n",
    "        param_info = fxinformation.find('.//paraminformation')\n",
    "        if param_info is not None:\n",
    "            paramNameList = []\n",
    "            paramIDList = []\n",
    "            for param in param_info.findall('.//parameter'):\n",
    "                param_name = param.find('name').text\n",
    "                param_value = param.find('value').text\n",
    "                paramNameList.append(param_name)\n",
    "                paramIDList.append(param_value)\n",
    "            effectDict['paramName'].append(paramNameList)\n",
    "            effectDict['paramID'].append(paramIDList)\n",
    "    \n",
    "    create_csv(effectDict, \"effectData.csv\")"
   ]
  },
  {
   "cell_type": "markdown",
   "id": "0614d616",
   "metadata": {},
   "source": [
    "## EFFECT XML PATH AGGREGATION"
   ]
  },
  {
   "cell_type": "code",
   "execution_count": null,
   "id": "c1981a72",
   "metadata": {},
   "outputs": [],
   "source": [
    "def effect_xml_file(root):\n",
    "    fnameList = []\n",
    "    \n",
    "    for effectDir in os.listdir(root):\n",
    "        subDir = os.path.join(root, effectDir)\n",
    "        # The [:3] asks for the first 3 files for each parent directory\n",
    "        fnames = glob.glob(f\"{subDir}/*.xml\")[:3]\n",
    "        fnameList.extend(fnames)\n",
    "        \n",
    "    return fnameList"
   ]
  },
  {
   "cell_type": "markdown",
   "id": "e4a067ba",
   "metadata": {},
   "source": [
    "## START HERE"
   ]
  },
  {
   "cell_type": "code",
   "execution_count": null,
   "id": "984ebd4b",
   "metadata": {},
   "outputs": [],
   "source": [
    "def main():\n",
    "    root = \"dataset/monophonic/Lists\"\n",
    "    fnames = glob.glob(f\"{root}/*/*.xml\")\n",
    "    path = \"\"\n",
    "    \n",
    "    # Collect the data for all the files in IDMT-SMT dataset\n",
    "    for file in fnames:\n",
    "        path = file\n",
    "        fileData = file_parse_xml(path)\n",
    "        create_csv(fileData, \"fileData.csv\") \n",
    "        \n",
    "    fnameList = effect_xml_file(root)\n",
    "    \n",
    "    # Collect the data for all the effects in IDMT-SMT dataset\n",
    "    for filePath in fnameList:\n",
    "        effect_table_creation(filePath)"
   ]
  }
 ],
 "metadata": {
  "kernelspec": {
   "display_name": "Python 3 (ipykernel)",
   "language": "python",
   "name": "python3"
  },
  "language_info": {
   "codemirror_mode": {
    "name": "ipython",
    "version": 3
   },
   "file_extension": ".py",
   "mimetype": "text/x-python",
   "name": "python",
   "nbconvert_exporter": "python",
   "pygments_lexer": "ipython3",
   "version": "3.11.5"
  }
 },
 "nbformat": 4,
 "nbformat_minor": 5
}
