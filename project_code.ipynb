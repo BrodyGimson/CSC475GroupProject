{
 "cells": [
  {
   "cell_type": "code",
   "execution_count": null,
   "id": "e018bc56-d6f7-4b3a-b77b-df5ab824f47b",
   "metadata": {},
   "outputs": [],
   "source": [
    "import numpy as np\n",
    "import librosa as lib\n",
    "import torch\n",
    "import torchaudio"
   ]
  },
  {
   "cell_type": "code",
   "execution_count": null,
   "id": "94c61646-dc71-44e7-af81-a2f86a4abf16",
   "metadata": {},
   "outputs": [],
   "source": [
    "# Edit to change folder paths\n",
    "mono_path = \"dataset/monophonic/Samples\"\n",
    "poly_path = \"dataset/polyphonic/Samples\"\n",
    "\n"
   ]
  }
 ],
 "metadata": {
  "kernelspec": {
   "display_name": "Python 3 (ipykernel)",
   "language": "python",
   "name": "python3"
  },
  "language_info": {
   "codemirror_mode": {
    "name": "ipython",
    "version": 3
   },
   "file_extension": ".py",
   "mimetype": "text/x-python",
   "name": "python",
   "nbconvert_exporter": "python",
   "pygments_lexer": "ipython3",
   "version": "3.10.12"
  }
 },
 "nbformat": 4,
 "nbformat_minor": 5
}
